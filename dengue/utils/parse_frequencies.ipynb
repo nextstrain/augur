{
 "cells": [
  {
   "cell_type": "code",
   "execution_count": 3,
   "metadata": {
    "collapsed": true
   },
   "outputs": [],
   "source": [
    "import json\n",
    "import pandas as pd\n",
    "import numpy as np\n",
    "from pprint import pprint\n",
    "import re"
   ]
  },
  {
   "cell_type": "code",
   "execution_count": 5,
   "metadata": {
    "collapsed": true
   },
   "outputs": [],
   "source": [
    "with open('build/dengue_denv1_frequencies.json') as data_file:  # Open JSON, load as dictionary\n",
    "    frequencies = json.load(data_file)"
   ]
  },
  {
   "cell_type": "code",
   "execution_count": 6,
   "metadata": {
    "collapsed": false
   },
   "outputs": [],
   "source": [
    "def make_tidy(label, frequencies):\n",
    "    ''' E.g., input (u'global_nuc:9G': [0.9972, 0.9943]) from dict.iteritems()\n",
    "    returns { 'region': 'global', 'gene': 'nuc', 'site': 9, 'frequencies': [0.9972, 0.9943]}'''\n",
    "    try:\n",
    "        region, geneAllele = label.replace('other', 'X').split('_') # Recode 'other' with ambiguity code 'X'\n",
    "        gene, siteAllele = geneAllele.split(':')\n",
    "        site, allele = int(siteAllele[:-1]), siteAllele[-1]\n",
    "        tidy_entry = {'region': region, 'gene': gene, 'site': site, 'allele': allele, 'frequencies': np.array(frequencies)}\n",
    "        return tidy_entry\n",
    "    except:\n",
    "        print label\n",
    "\n",
    "pivots = frequencies.pop(u'pivots')\n",
    "counts = frequencies.pop(u'counts')\n",
    "tidy_frequencies = sorted([ make_tidy(k,v) for k,v in frequencies.iteritems() ], key = lambda x: x['gene'])"
   ]
  },
  {
   "cell_type": "code",
   "execution_count": 7,
   "metadata": {
    "collapsed": false
   },
   "outputs": [
    {
     "data": {
      "text/html": [
       "<div>\n",
       "<table border=\"1\" class=\"dataframe\">\n",
       "  <thead>\n",
       "    <tr style=\"text-align: right;\">\n",
       "      <th></th>\n",
       "      <th>region</th>\n",
       "      <th>site</th>\n",
       "      <th>gene</th>\n",
       "      <th>allele</th>\n",
       "      <th>frequencies</th>\n",
       "    </tr>\n",
       "  </thead>\n",
       "  <tbody>\n",
       "    <tr>\n",
       "      <th>0</th>\n",
       "      <td>global</td>\n",
       "      <td>17</td>\n",
       "      <td>2K</td>\n",
       "      <td>I</td>\n",
       "      <td>[0.0353, 0.0353, 0.0353, 0.0353, 0.0353, 0.035...</td>\n",
       "    </tr>\n",
       "    <tr>\n",
       "      <th>1</th>\n",
       "      <td>global</td>\n",
       "      <td>17</td>\n",
       "      <td>2K</td>\n",
       "      <td>M</td>\n",
       "      <td>[0.939, 0.939, 0.939, 0.939, 0.939, 0.939, 0.9...</td>\n",
       "    </tr>\n",
       "    <tr>\n",
       "      <th>2</th>\n",
       "      <td>global</td>\n",
       "      <td>17</td>\n",
       "      <td>2K</td>\n",
       "      <td>X</td>\n",
       "      <td>[0.0257, 0.0257, 0.0257, 0.0257, 0.0257, 0.025...</td>\n",
       "    </tr>\n",
       "    <tr>\n",
       "      <th>3</th>\n",
       "      <td>global</td>\n",
       "      <td>104</td>\n",
       "      <td>C</td>\n",
       "      <td>M</td>\n",
       "      <td>[0.9691, 0.9691, 0.9691, 0.9691, 0.9691, 0.969...</td>\n",
       "    </tr>\n",
       "    <tr>\n",
       "      <th>4</th>\n",
       "      <td>global</td>\n",
       "      <td>104</td>\n",
       "      <td>C</td>\n",
       "      <td>V</td>\n",
       "      <td>[0.0309, 0.0309, 0.0309, 0.0309, 0.0309, 0.030...</td>\n",
       "    </tr>\n",
       "  </tbody>\n",
       "</table>\n",
       "</div>"
      ],
      "text/plain": [
       "   region  site gene allele                                        frequencies\n",
       "0  global    17   2K      I  [0.0353, 0.0353, 0.0353, 0.0353, 0.0353, 0.035...\n",
       "1  global    17   2K      M  [0.939, 0.939, 0.939, 0.939, 0.939, 0.939, 0.9...\n",
       "2  global    17   2K      X  [0.0257, 0.0257, 0.0257, 0.0257, 0.0257, 0.025...\n",
       "3  global   104    C      M  [0.9691, 0.9691, 0.9691, 0.9691, 0.9691, 0.969...\n",
       "4  global   104    C      V  [0.0309, 0.0309, 0.0309, 0.0309, 0.0309, 0.030..."
      ]
     },
     "execution_count": 7,
     "metadata": {},
     "output_type": "execute_result"
    }
   ],
   "source": [
    "frequencies_df = pd.DataFrame(tidy_frequencies, # Cast to data frame\n",
    "                              columns=['region', 'site', 'gene', 'allele', 'frequencies']) \n",
    "frequencies_df.head()"
   ]
  },
  {
   "cell_type": "code",
   "execution_count": 76,
   "metadata": {
    "collapsed": false
   },
   "outputs": [
    {
     "data": {
      "text/html": [
       "<div>\n",
       "<table border=\"1\" class=\"dataframe\">\n",
       "  <thead>\n",
       "    <tr style=\"text-align: right;\">\n",
       "      <th></th>\n",
       "      <th>region</th>\n",
       "      <th>site</th>\n",
       "      <th>gene</th>\n",
       "      <th>allele</th>\n",
       "      <th>frequencies</th>\n",
       "      <th>std</th>\n",
       "    </tr>\n",
       "  </thead>\n",
       "  <tbody>\n",
       "    <tr>\n",
       "      <th>180</th>\n",
       "      <td>global</td>\n",
       "      <td>8</td>\n",
       "      <td>E</td>\n",
       "      <td>N</td>\n",
       "      <td>[0.9753, 0.9753, 0.9753, 0.9753, 0.9753, 0.975...</td>\n",
       "      <td>0.135333</td>\n",
       "    </tr>\n",
       "    <tr>\n",
       "      <th>181</th>\n",
       "      <td>global</td>\n",
       "      <td>8</td>\n",
       "      <td>E</td>\n",
       "      <td>S</td>\n",
       "      <td>[0.0247, 0.0247, 0.0247, 0.0247, 0.0247, 0.024...</td>\n",
       "      <td>0.135333</td>\n",
       "    </tr>\n",
       "    <tr>\n",
       "      <th>168</th>\n",
       "      <td>global</td>\n",
       "      <td>37</td>\n",
       "      <td>E</td>\n",
       "      <td>G</td>\n",
       "      <td>[0.0001, 0.0001, 0.0001, 0.0001, 0.0001, 0.000...</td>\n",
       "      <td>0.000104</td>\n",
       "    </tr>\n",
       "    <tr>\n",
       "      <th>167</th>\n",
       "      <td>global</td>\n",
       "      <td>37</td>\n",
       "      <td>E</td>\n",
       "      <td>D</td>\n",
       "      <td>[0.3373, 0.3373, 0.3373, 0.3373, 0.3373, 0.337...</td>\n",
       "      <td>0.181927</td>\n",
       "    </tr>\n",
       "    <tr>\n",
       "      <th>166</th>\n",
       "      <td>global</td>\n",
       "      <td>37</td>\n",
       "      <td>E</td>\n",
       "      <td>N</td>\n",
       "      <td>[0.6626, 0.6626, 0.6626, 0.6626, 0.6626, 0.662...</td>\n",
       "      <td>0.181932</td>\n",
       "    </tr>\n",
       "  </tbody>\n",
       "</table>\n",
       "</div>"
      ],
      "text/plain": [
       "     region  site gene allele  \\\n",
       "180  global     8    E      N   \n",
       "181  global     8    E      S   \n",
       "168  global    37    E      G   \n",
       "167  global    37    E      D   \n",
       "166  global    37    E      N   \n",
       "\n",
       "                                           frequencies       std  \n",
       "180  [0.9753, 0.9753, 0.9753, 0.9753, 0.9753, 0.975...  0.135333  \n",
       "181  [0.0247, 0.0247, 0.0247, 0.0247, 0.0247, 0.024...  0.135333  \n",
       "168  [0.0001, 0.0001, 0.0001, 0.0001, 0.0001, 0.000...  0.000104  \n",
       "167  [0.3373, 0.3373, 0.3373, 0.3373, 0.3373, 0.337...  0.181927  \n",
       "166  [0.6626, 0.6626, 0.6626, 0.6626, 0.6626, 0.662...  0.181932  "
      ]
     },
     "execution_count": 76,
     "metadata": {},
     "output_type": "execute_result"
    }
   ],
   "source": [
    "E_freqs = frequencies_df.loc[frequencies_df['gene'] == 'E'].copy() # Pull sites in E\n",
    "E_freqs['std'] = E_freqs['frequencies'].apply(lambda x: np.std(x)) # Make a new column with the standard deviation of the frequency values for each site\n",
    "E_freqs.sort_values('site', inplace=True) # Sort for most variable sites first\n",
    "E_freqs.head()"
   ]
  },
  {
   "cell_type": "code",
   "execution_count": 123,
   "metadata": {
    "collapsed": false
   },
   "outputs": [
    {
     "name": "stdout",
     "output_type": "stream",
     "text": [
      "{'name': u'114I', 'text': u'114I', 'visible': False, 'y': array([ 0.8928,  0.8928,  0.8928,  0.8928,  0.8928,  0.8928,  0.8928,\n",
      "        0.8928,  0.8928,  0.8928,  0.8928,  0.8928,  0.8928,  0.8928,\n",
      "        0.8928,  0.8928,  0.8928,  0.8928,  0.8928,  0.8928,  0.8928,\n",
      "        0.8928,  0.8928,  0.8928,  0.8928,  0.8928,  0.8928,  0.8928,\n",
      "        0.8928,  0.8928,  0.8928,  0.8928,  0.8928,  0.8928,  0.8927,\n",
      "        0.8927,  0.8928,  0.8928,  0.8928,  0.8928,  0.8825,  0.8614,\n",
      "        0.8387,  0.8143,  0.7885,  0.7614,  0.733 ,  0.7034,  0.6727,\n",
      "        0.6412,  0.609 ,  0.5761,  0.5426,  0.563 ,  0.5832,  0.6034,\n",
      "        0.6233,  0.6055,  0.5875,  0.5696,  0.5652,  0.5609,  0.5565,\n",
      "        0.5522,  0.5478,  0.5434,  0.539 ,  0.5113,  0.5129,  0.5145,\n",
      "        0.5079,  0.4606,  0.4595,  0.4585,  0.4575,  0.4564,  0.5453,\n",
      "        0.5433,  0.4962,  0.4982,  0.5002,  0.5022,  0.4546,  0.398 ,\n",
      "        0.4023,  0.4389,  0.465 ,  0.4664,  0.3789,  0.3952,  0.4842,\n",
      "        0.5165,  0.5288,  0.3949,  0.3451,  0.4469,  0.5068,  0.6141,\n",
      "        0.6652,  0.521 ,  0.5064,  0.4531,  0.5503,  0.5791,  0.3458,\n",
      "        0.27  ,  0.27  ,  0.2855,  0.301 ,  0.4364,  0.5295,  0.5227]), 'x': [1905.0, 1906.0, 1907.0, 1908.0, 1909.0, 1910.0, 1911.0, 1912.0, 1913.0, 1914.0, 1915.0, 1916.0, 1917.0, 1918.0, 1919.0, 1920.0, 1921.0, 1922.0, 1923.0, 1924.0, 1925.0, 1926.0, 1927.0, 1928.0, 1929.0, 1930.0, 1931.0, 1932.0, 1933.0, 1934.0, 1935.0, 1936.0, 1937.0, 1938.0, 1939.0, 1940.0, 1941.0, 1942.0, 1943.0, 1944.0, 1945.0, 1946.0, 1947.0, 1948.0, 1949.0, 1950.0, 1951.0, 1952.0, 1953.0, 1954.0, 1955.0, 1956.0, 1957.0, 1958.0, 1959.0, 1960.0, 1961.0, 1962.0, 1963.0, 1964.0, 1965.0, 1966.0, 1967.0, 1968.0, 1969.0, 1970.0, 1971.0, 1972.0, 1973.0, 1974.0, 1975.0, 1976.0, 1977.0, 1978.0, 1979.0, 1980.0, 1981.0, 1982.0, 1983.0, 1984.0, 1985.0, 1986.0, 1987.0, 1988.0, 1989.0, 1990.0, 1991.0, 1992.0, 1993.0, 1994.0, 1995.0, 1996.0, 1997.0, 1998.0, 1999.0, 2000.0, 2001.0, 2002.0, 2003.0, 2004.0, 2005.0, 2006.0, 2007.0, 2008.0, 2009.0, 2010.0, 2011.0, 2012.0, 2013.0, 2014.0, 2015.0, 2016.0], 'line': {'color': '#83BA70', 'width': 6}}\n"
     ]
    }
   ],
   "source": [
    "colors = ['#547BD3','#83BA70', '#781C86', '#DF4327', '#D3AE4E']\n",
    "\n",
    "plot_data = E_freqs[['site', 'allele', 'frequencies']].copy() # Pull relevant columns to plot\n",
    "site_groups = plot_data.groupby('site') # Store which indices correspond to each site\n",
    "\n",
    "plot_data['x'] = [pivots for i in range(len(plot_data))] # pivots: X coordinates (same for all)\n",
    "plot_data.rename(columns = {'frequencies': 'y'}, inplace=True) # freqs: Y coordinates\n",
    "plot_data['text'] = plot_data.apply(lambda i: str(i['site']).strip() + i['allele'], axis=1) # Display text for mouse over\n",
    "plot_data['name'] = plot_data['text'] # Display text for legend\n",
    "del plot_data['allele'] # Cleanup; stored elsewhere\n",
    "plot_data['visible'] = False # Initially all traces are not visible\n",
    "plot_data = plot_data.to_dict(orient=\"index\") # Ordered list of observations\n",
    "\n",
    "\n",
    "for i, values in plot_data.items(): # Add unique color for each allele found at a site\n",
    "    color_index = list(site_groups.get_group(values['site']).index.values).index(i)\n",
    "    color = colors[color_index]\n",
    "    values['line'] = {'color': color, 'width': 6}\n",
    "    del values['site'] # We don't need the site number anymore\n",
    "\n",
    "plot_data = plot_data.values() # We don't need the index anymore, just the records\n",
    "plot_data = sorted(plot_data, key = lambda x: x['name']) # Put back in order by site and allele\n",
    "print plot_data[0] # Sanity check"
   ]
  },
  {
   "cell_type": "code",
   "execution_count": 1,
   "metadata": {
    "collapsed": false
   },
   "outputs": [],
   "source": [
    "import plotly.plotly as py # Magic!"
   ]
  },
  {
   "cell_type": "code",
   "execution_count": 124,
   "metadata": {
    "collapsed": false
   },
   "outputs": [],
   "source": [
    "def get_visible(site):\n",
    "    '''Return a vector of booleans indicating which TRACE INDICES are from that site'''\n",
    "    v = [ True if int(record['name'][:-1]) == site else False for record in plot_data ]\n",
    "    assert v.count(True) == pd.value_counts(E_freqs['site'])[site]\n",
    "    return v\n",
    "\n",
    "def make_visible(site):\n",
    "    '''Set traces from that site to visible; all others to false'''\n",
    "    for record in plot_data:\n",
    "        if int(record['name'][:-1]) == site:\n",
    "            record['visible'] = True\n",
    "        else:\n",
    "            record['visible'] = False\n",
    "make_visible(8)"
   ]
  },
  {
   "cell_type": "code",
   "execution_count": 128,
   "metadata": {
    "collapsed": false,
    "scrolled": false
   },
   "outputs": [
    {
     "data": {
      "text/html": [
       "<iframe id=\"igraph\" scrolling=\"no\" style=\"border:none;\" seamless=\"seamless\" src=\"https://plot.ly/~sidneymbell/2.embed\" height=\"525px\" width=\"100%\"></iframe>"
      ],
      "text/plain": [
       "<plotly.tools.PlotlyDisplay object>"
      ]
     },
     "execution_count": 128,
     "metadata": {},
     "output_type": "execute_result"
    }
   ],
   "source": [
    "sites = sorted(list(set(E_freqs['site']))) # Pull sites in order\n",
    "\n",
    "sites_config = []\n",
    "for site in sites: # For each site....\n",
    "    params = { \n",
    "        'label': site,\n",
    "        'method':'restyle', # Action: change which traces are visible\n",
    "        'args': ['visible', get_visible(site)]} # Determined by vector of booleans from get_visible \n",
    "                                                #(which plot_data entries are from that site)\n",
    "    sites_config.append(params)\n",
    "        \n",
    "site_slider = [{\n",
    "    'active': 0, # Initial setting\n",
    "    'currentvalue': {\"prefix\": \"Frequency at site: \"}, # Label\n",
    "    'pad' : {\"t\": 50}, # Layout padding between slider and graph\n",
    "    'steps': sites_config}]\n",
    "\n",
    "layout = dict(sliders=site_slider)\n",
    "fig = {'data': plot_data, 'layout': layout}\n",
    "py.iplot(fig, filename='DENV1 Mutation Frequencies')"
   ]
  },
  {
   "cell_type": "code",
   "execution_count": null,
   "metadata": {
    "collapsed": true
   },
   "outputs": [],
   "source": []
  }
 ],
 "metadata": {
  "kernelspec": {
   "display_name": "Python 2",
   "language": "python",
   "name": "python2"
  },
  "language_info": {
   "codemirror_mode": {
    "name": "ipython",
    "version": 2
   },
   "file_extension": ".py",
   "mimetype": "text/x-python",
   "name": "python",
   "nbconvert_exporter": "python",
   "pygments_lexer": "ipython2",
   "version": "2.7.10"
  }
 },
 "nbformat": 4,
 "nbformat_minor": 2
}
