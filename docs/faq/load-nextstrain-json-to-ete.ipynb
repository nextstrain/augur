{
 "cells": [
  {
   "cell_type": "code",
   "execution_count": 1,
   "id": "b526731a",
   "metadata": {},
   "outputs": [],
   "source": [
    "import ete3 as et # phylogenetics library that provides tree data structure with nice methods for inspection and manipulation\n",
    "import json # necessary to read in exported nextstrain JSON file"
   ]
  },
  {
   "cell_type": "markdown",
   "id": "e2a173db",
   "metadata": {},
   "source": [
    "# Load and parse the tree"
   ]
  },
  {
   "cell_type": "code",
   "execution_count": 2,
   "id": "46b1c358",
   "metadata": {},
   "outputs": [],
   "source": [
    "def make_node(data_dict):\n",
    "    '''\n",
    "    data_dict: portion of the nextstrain tree JSON representing either an internal node or leaf\n",
    "    returns: ete3 TreeNode object with all attributes and relationships populated from the nextstrain JSON\n",
    "    '''\n",
    "    node = et.TreeNode()\n",
    "    node.name = data_dict['name'] # copy name\n",
    "    node.dist = 0.    # initialize for the root node\n",
    "    \n",
    "    def add_features(attrs, node):\n",
    "        '''\n",
    "        attrs: dictionary of either `branch_attrs` or `node_attrs` from the nextstrain json\n",
    "        node: node to attach these to\n",
    "        side effect: modifies node in place to attach these attributes as `node.features` per ETE3 convention.\n",
    "                     these can later be referenced via `getattr(node, attribute_name) => value`\n",
    "        '''\n",
    "        attrs = { \n",
    "            k: v['value'] if # deal with nextstrain json format quirk with occasional nested dictionaries for single-value attributes\n",
    "                isinstance(v, dict) and 'value' in v\n",
    "                else v\n",
    "                for k,v in attrs.items()\n",
    "                }\n",
    "        node.add_features(**attrs)\n",
    "        \n",
    "    if 'branch_attrs' in data_dict:\n",
    "        add_features(data_dict['branch_attrs'], node)        \n",
    "        \n",
    "    if 'node_attrs' in data_dict:\n",
    "        cumulative_div = data_dict['node_attrs'].pop('div') # pop out the divergence value to store as `node.dist`, rather than as a metadata feature\n",
    "        add_features(data_dict['node_attrs'], node)\n",
    "\n",
    "    \n",
    "    if 'children' in data_dict and len(data_dict['children']) > 0: # recursively visit each of the children of the node to build out the full tree structure with the right parental relationships\n",
    "        for c in data_dict['children']:\n",
    "            if 'node_attrs' in c and 'div' in c['node_attrs']:\n",
    "                d = c['node_attrs']['div']\n",
    "            else:\n",
    "                d = 0.\n",
    "            node.add_child(make_node(c), \n",
    "                           dist = d - cumulative_div) # nextstrain records each node/leaf's *total distance* from the root, not the incremental distance from its parent\n",
    "    return node\n",
    "        \n",
    "def make_tree(json_file):\n",
    "    '''\n",
    "    json_file: filehandle to read or pre-parsed JSON file as a dictionary\n",
    "    returns: ete3.Tree object. NB that ete3.Tree and ete3.TreeNode objects are synonymous; see their docs for more\n",
    "    '''\n",
    "    if type(json_file) == str:\n",
    "        json_dict = json.load(open(json_file, 'r'))\n",
    "    else:\n",
    "        assert(type(json_file)==dict)\n",
    "        json_dict = json_file\n",
    "        \n",
    "    tree = make_node(json_dict['tree'])\n",
    "    return tree"
   ]
  },
  {
   "cell_type": "code",
   "execution_count": 3,
   "id": "aafbd473",
   "metadata": {},
   "outputs": [
    {
     "name": "stdout",
     "output_type": "stream",
     "text": [
      "Number of leaf nodes:\t31\n",
      "Total number of nodes:\t56\n",
      "Rooted:\tYes\n",
      "Most distant node:\tUSA/2016/FLUR022\n",
      "Max. distance:\t0.006146\n"
     ]
    }
   ],
   "source": [
    "tree_file = '/Users/sbell/auspice/examples/minimal_v2.json'\n",
    "tree = make_tree(tree_file)\n",
    "tree.ladderize() # sort / rotate nodes for a tidy looking tree\n",
    "tree.describe() # basic facts to check we did it right"
   ]
  },
  {
   "cell_type": "markdown",
   "id": "c4cb85af",
   "metadata": {},
   "source": [
    "## Bonus / advanced section: plotting trees with matplotlib\n",
    "    \n",
    "This implementation uses matplotlib's basic library, lightly adapted from @evogytis's approach in BALTIC. \n",
    "\n",
    "You may also want to check out the gallery of ETE toolkit examples of how to plot trees using its built in functions. \n",
    "http://etetoolkit.org/docs/latest/tutorial/tutorial_drawing.html"
   ]
  },
  {
   "cell_type": "code",
   "execution_count": 4,
   "id": "595776a4",
   "metadata": {},
   "outputs": [],
   "source": [
    "from matplotlib import pyplot as plt\n",
    "import numpy as np\n",
    "%matplotlib inline"
   ]
  },
  {
   "cell_type": "code",
   "execution_count": 5,
   "id": "8c616b8c",
   "metadata": {},
   "outputs": [],
   "source": [
    "'''\n",
    "CREDITS: This function is lightly adapted from the baltic package created by Gytis Dudas.\n",
    "https://github.com/blab/baltic/blob/master/baltic.py#L268\n",
    "'''\n",
    "\n",
    "def assign_x_y_coordinates(tree, verbose=False):\n",
    "    \"\"\" Find x and y coordinates of each branch. \"\"\"\n",
    "    tree.ladderize() ## rotate nodes for a tidier tree\n",
    "    root = tree.get_tree_root()\n",
    "    order = [k for k in tree.traverse('postorder')]\n",
    "    name_order=[getattr(k, 'name') for k in order]\n",
    "    skips = [1 for k in order]\n",
    "\n",
    "    for k in order: ## reset coordinates for all objects\n",
    "        k.del_feature('x')\n",
    "        k.del_feature('y')\n",
    "        \n",
    "    storePlotted=0\n",
    "    drawn={} ## drawn keeps track of what's been drawn\n",
    "    \n",
    "    def get_height(k, root = root):\n",
    "        return k.get_distance(root)\n",
    "    \n",
    "    while len(drawn)!=len(order): # keep drawing the tree until everything is drawn\n",
    "        if verbose==True:\n",
    "            print('Drawing iteration %d'%(len(drawn)))\n",
    "        for k in filter(lambda w:w.name not in drawn,order): ## iterate through objects that have not been drawn\n",
    "            if k.is_leaf(): ## if leaf - get position of leaf, draw branch connecting tip to parent node\n",
    "                if verbose==True:\n",
    "                    print('Setting leaf %s y coordinate to'%(k.name))\n",
    "                x=get_height(k) ## x position is distance from root\n",
    "                y_idx=name_order.index(k.name) ## y position of leaf is given by the order in which tips were visited during the traversal\n",
    "                y=sum(skips[y_idx:]) ## sum across skips to find y position\n",
    "                if verbose==True:\n",
    "                    print('%s'%(y))\n",
    "                k.add_feature('x', x) ## set x and y coordinates\n",
    "                k.add_feature('y', y)\n",
    "                drawn[k.name]=None ## remember that this objects has been drawn\n",
    "                if hasattr(k.up,'yRange')==False: ## if parent doesn't have a maximum extent of its children's y coordinates\n",
    "                    k.up.add_feature('yRange',[k.y,k.y]) ## assign it\n",
    "\n",
    "            elif not k.is_root(): ## if parent is non-root node and y positions of all its children are known\n",
    "                if len([q.y for q in k.children if hasattr(q, 'y')])==len(k.children):\n",
    "                    if verbose==True:\n",
    "                        print('Setting node %s coordinates'%(k.name))\n",
    "                    x=get_height(k) ## x position is height\n",
    "                    children_y_coords=[q.y for q in k.children]# if hasattr(q, y)] ## get all existing y coordinates of the node\n",
    "                    y=sum(children_y_coords)/float(len(children_y_coords)) ## internal branch is in the middle of the vertical bar\n",
    "                    k.add_feature('x', x)\n",
    "                    k.add_feature('y', y)\n",
    "                    drawn[k.name]=None ## remember that this objects has been drawn\n",
    "                    minYrange=min([min(child.yRange) if not child.is_leaf() else child.y for child in k.children]) ## get lowest y coordinate across children\n",
    "                    maxYrange=max([max(child.yRange) if not child.is_leaf() else child.y for child in k.children]) ## get highest y coordinate across children\n",
    "                    k.add_feature('yRange', [minYrange,maxYrange]) ## assign the maximum extent of children's y coordinates\n",
    "\n",
    "        if len(drawn) <= storePlotted:\n",
    "            break\n",
    "        storePlotted=len(drawn)"
   ]
  },
  {
   "cell_type": "code",
   "execution_count": 6,
   "id": "a54f1fe0",
   "metadata": {},
   "outputs": [],
   "source": [
    "def plot_tree(tree, colorby = None, y_stretch = 1.0, tip_size = 20, \n",
    "              branchWidth=2, ax=None, palette = plt.cm.Pastel2):    \n",
    "    \n",
    "    '''\n",
    "    tree = ete3 TreeNode object\n",
    "    colorby = categorical metadata feature to color the leaves by\n",
    "    y_stretch = factor by which to stretch out the figure vertically (useful for dense trees)\n",
    "    tip_size = size of the circles for each leaf\n",
    "    branchWidth = width of the line for each branch\n",
    "    ax = matplotlib ax object to plot on, useful for positioning in subplots\n",
    "    palette = matplotlib color palette to use `colorby\n",
    "    '''\n",
    "    \n",
    "    if not ax: ## create an axis if needed\n",
    "        fig, ax = plt.subplots()\n",
    "    \n",
    "    if colorby: ## create a colormap for categorical values\n",
    "        vals = sorted(list(\n",
    "                set([getattr(l, colorby, None) for l in tree.iter_leaves()])))\n",
    "        colors = np.linspace(0,1,len(vals))\n",
    "        cmap = {val : palette(color) for val, color in zip(vals, colors)}\n",
    "#         plt.legend(handles = colors, labels = vals) \n",
    "    \n",
    "    for k in tree.traverse(): ## iterate over each node and leaf in the tree\n",
    "        x = getattr(k, 'x', 0.0) # define coordinates; fill in 0.0 for any missing coordinates\n",
    "        xp = getattr(k.up, 'x', 0.0)\n",
    "        y = getattr(k, 'y', 0.0)*y_stretch\n",
    "\n",
    "        # plot leaves\n",
    "        if k.is_leaf(): \n",
    "            if colorby == None or colorby not in k.features:\n",
    "                c = 'darkgray'  # plot missing colorby values in gray\n",
    "            else:\n",
    "                c = cmap[getattr(k, colorby)] # leaf color\n",
    "            \n",
    "#             plt.text(x*1.05, y, k.name, fontsize=9, va='center') # leaf labels\n",
    "            plt.scatter(x,y,s=tip_size,facecolor=c,edgecolor='none',zorder=11) ## plot circle for every leaf\n",
    "            plt.scatter(x,y,s=1.8*tip_size,facecolor='black',edgecolor='none',zorder=10) ## plot black outline\n",
    "                        \n",
    "        # plot internal nodes\n",
    "        else: \n",
    "            plt.plot([x,x],[k.children[-1].y*y_stretch,k.children[0].y*y_stretch],lw=branchWidth,color='darkgray',ls='-',zorder=9) # vertical lines\n",
    "                    \n",
    "        # plot branches\n",
    "        plt.plot([xp,x],[y,y],lw=branchWidth,color='darkgray',ls='-',zorder=9)\n",
    "\n",
    "    for side in ['top', 'right', 'bottom', 'left']:\n",
    "        ax.spines[side].set_visible(False)\n",
    "    plt.yticks(size=0) ## turn off y axis\n",
    "\n",
    "    plt.show()"
   ]
  },
  {
   "cell_type": "code",
   "execution_count": 7,
   "id": "a9550c99",
   "metadata": {},
   "outputs": [
    {
     "data": {
      "image/png": "[encoded data removed]",
      "text/plain": [
       "<Figure size 432x288 with 1 Axes>"
      ]
     },
     "metadata": {
      "needs_background": "light"
     },
     "output_type": "display_data"
    }
   ],
   "source": [
    "assign_x_y_coordinates(tree)\n",
    "plot_tree(tree, colorby='region')"
   ]
  },
  {
   "cell_type": "code",
   "execution_count": null,
   "id": "91ebf6d3",
   "metadata": {},
   "outputs": [],
   "source": []
  }
 ],
 "metadata": {
  "kernelspec": {
   "display_name": "Python 3",
   "language": "python",
   "name": "python3"
  },
  "language_info": {
   "codemirror_mode": {
    "name": "ipython",
    "version": 3
   },
   "file_extension": ".py",
   "mimetype": "text/x-python",
   "name": "python",
   "nbconvert_exporter": "python",
   "pygments_lexer": "ipython3",
   "version": "3.8.8"
  }
 },
 "nbformat": 4,
 "nbformat_minor": 5
}
